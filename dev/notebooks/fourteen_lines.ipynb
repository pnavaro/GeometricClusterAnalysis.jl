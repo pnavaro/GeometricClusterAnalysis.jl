{
 "cells": [
  {
   "cell_type": "markdown",
   "source": [
    "# Different clustering for different methods"
   ],
   "metadata": {}
  },
  {
   "outputs": [],
   "cell_type": "code",
   "source": [
    "import Clustering\n",
    "using GeometricClusterAnalysis\n",
    "using LinearAlgebra\n",
    "using Plots\n",
    "using Random\n",
    "\n",
    "nb_clusters = 14\n",
    "k = 10\n",
    "c = 50\n",
    "iter_max = 100\n",
    "nstart = 1\n",
    "nb_means_removed = 10\n",
    "\n",
    "n = 490\n",
    "nsignal = n\n",
    "nnoise = 200\n",
    "ntimes = 100\n",
    "\n",
    "dim = 2\n",
    "\n",
    "sigma = 0.02 .* Matrix(I, dim, dim)\n",
    "dataset = noisy_fourteen_segments(n, nnoise, sigma, dim)"
   ],
   "metadata": {},
   "execution_count": null
  },
  {
   "cell_type": "markdown",
   "source": [
    "True colors"
   ],
   "metadata": {}
  },
  {
   "outputs": [],
   "cell_type": "code",
   "source": [
    "plot(dataset, aspect_ratio=true, palette = :default, framestyle = :none)\n",
    "\n",
    "points = dataset.points"
   ],
   "metadata": {},
   "execution_count": null
  },
  {
   "cell_type": "markdown",
   "source": [
    "## k-PLM"
   ],
   "metadata": {}
  },
  {
   "outputs": [],
   "cell_type": "code",
   "source": [
    "col_kplm = clustering_kplm( dataset.points, nb_clusters, k, c, nsignal, iter_max, nstart; nb_means_removed = 0)\n",
    "\n",
    "l = @layout [a b]\n",
    "p1 = pointset(dataset.points, dataset.colors)\n",
    "p2 = pointset(dataset.points, col_kplm)\n",
    "plot(p1, p2, layout = l, legend = false)\n",
    "\n",
    "import Clustering\n",
    "Clustering.mutualinfo(dataset.colors, col_kplm)"
   ],
   "metadata": {},
   "execution_count": null
  },
  {
   "cell_type": "markdown",
   "source": [
    "## k-PDTM"
   ],
   "metadata": {}
  },
  {
   "outputs": [],
   "cell_type": "code",
   "source": [
    "col_kpdtm = clustering_kpdtm(dataset.points, nb_clusters, k, c, nsignal, iter_max, nstart)\n",
    "l = @layout [a b]\n",
    "p1 = plot(dataset, aspect_ratio = true, framestyle = :none, markersize = 2)\n",
    "p2 = pointset(dataset.points, col_kpdtm, legend = false)\n",
    "plot(p1, p2, layout = l)\n",
    "\n",
    "Clustering.mutualinfo(dataset.colors, col_kpdtm)"
   ],
   "metadata": {},
   "execution_count": null
  },
  {
   "cell_type": "markdown",
   "source": [
    "## q-witnessed distance"
   ],
   "metadata": {}
  },
  {
   "outputs": [],
   "cell_type": "code",
   "source": [
    "witnessed_colors = clustering_witnessed(dataset.points, nb_clusters, k, c,\n",
    "                                        nsignal, iter_max, nstart)\n",
    "l = @layout [a b]\n",
    "p1 = plot(dataset, aspect_ratio = true, framestyle = :none, markersize = 2)\n",
    "p2 = pointset(points, witnessed_colors, legend = :outertopright)\n",
    "plot(p1, p2, layout = l)\n",
    "\n",
    "Clustering.mutualinfo(dataset.colors, witnessed_colors)"
   ],
   "metadata": {},
   "execution_count": null
  },
  {
   "cell_type": "markdown",
   "source": [
    "## Power function"
   ],
   "metadata": {}
  },
  {
   "outputs": [],
   "cell_type": "code",
   "source": [
    "buchet_colors = clustering_power_function(dataset.points, nb_clusters, k, c,\n",
    "                                          nsignal, iter_max, nstart)\n",
    "l = @layout [a b]\n",
    "p1 = plot(dataset, aspect_ratio = true, framestyle = :none, markersize = 2)\n",
    "p2 = pointset(points, buchet_colors)\n",
    "plot(p1, p2, layout = l, legend = :none)\n",
    "\n",
    "Clustering.mutualinfo(dataset.colors, buchet_colors)"
   ],
   "metadata": {},
   "execution_count": null
  },
  {
   "cell_type": "markdown",
   "source": [
    "## DTM filtration"
   ],
   "metadata": {}
  },
  {
   "outputs": [],
   "cell_type": "code",
   "source": [
    "dtm_colors = clustering_dtm_filtration(points, nb_clusters, k, c, nsignal, iter_max, nstart)\n",
    "l = @layout [a b]\n",
    "p1 = plot(dataset, aspect_ratio = true, framestyle = :none, markersize = 2)\n",
    "p2 = pointset(points, dtm_colors)\n",
    "plot(p1, p2, layout = l, legend = :none)\n",
    "\n",
    "Clustering.mutualinfo(dataset.colors, dtm_colors)"
   ],
   "metadata": {},
   "execution_count": null
  },
  {
   "cell_type": "markdown",
   "source": [
    "## ToMaTo"
   ],
   "metadata": {}
  },
  {
   "outputs": [],
   "cell_type": "code",
   "source": [
    "radius = 0.12\n",
    "tomato_colors = clustering_tomato(points, nb_clusters, k, c, nsignal, radius, iter_max, nstart)\n",
    "println(Clustering.mutualinfo(dataset.colors, tomato_colors))\n",
    "l = @layout [a b]\n",
    "p1 = plot(dataset, aspect_ratio = true, framestyle = :none, markersize = 2)\n",
    "p2 = pointset(points, tomato_colors)\n",
    "plot(p1, p2, layout = l, legend = :none)"
   ],
   "metadata": {},
   "execution_count": null
  },
  {
   "cell_type": "markdown",
   "source": [
    "---\n",
    "\n",
    "*This notebook was generated using [Literate.jl](https://github.com/fredrikekre/Literate.jl).*"
   ],
   "metadata": {}
  }
 ],
 "nbformat_minor": 3,
 "metadata": {
  "language_info": {
   "file_extension": ".jl",
   "mimetype": "application/julia",
   "name": "julia",
   "version": "1.9.1"
  },
  "kernelspec": {
   "name": "julia-1.9",
   "display_name": "Julia 1.9.1",
   "language": "julia"
  }
 },
 "nbformat": 4
}
