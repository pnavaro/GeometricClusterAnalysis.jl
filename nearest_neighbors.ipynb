{
 "cells": [
  {
   "cell_type": "markdown",
   "metadata": {},
   "source": [
    "# NearestNeighbors.jl"
   ]
  },
  {
   "cell_type": "code",
   "execution_count": 154,
   "metadata": {},
   "outputs": [
    {
     "name": "stderr",
     "output_type": "stream",
     "text": [
      "\u001b[32m\u001b[1m  Activating\u001b[22m\u001b[39m environment at `~/JuliaProjects/KPLMCenters.jl/Project.toml`\n"
     ]
    }
   ],
   "source": [
    "import Pkg\n",
    "Pkg.activate(@__DIR__)"
   ]
  },
  {
   "cell_type": "code",
   "execution_count": 155,
   "metadata": {},
   "outputs": [],
   "source": [
    "using KPLMCenters\n",
    "using Random\n",
    "using LinearAlgebra\n",
    "using Statistics\n",
    "using Distances\n",
    "using BenchmarkTools"
   ]
  },
  {
   "cell_type": "code",
   "execution_count": 156,
   "metadata": {},
   "outputs": [],
   "source": [
    "using NearestNeighbors"
   ]
  },
  {
   "cell_type": "code",
   "execution_count": 157,
   "metadata": {},
   "outputs": [
    {
     "data": {
      "text/plain": [
       "(3, 11000)"
      ]
     },
     "execution_count": 157,
     "metadata": {},
     "output_type": "execute_result"
    }
   ],
   "source": [
    "rng = MersenneTwister(1234)\n",
    "signal = 10^4\n",
    "noise = 10^3\n",
    "dimension = 3\n",
    "noise_min = -7\n",
    "noise_max = 7\n",
    "σ = 0.01\n",
    "points = infinity_symbol(rng, signal, noise, σ, dimension, noise_min, noise_max)\n",
    "points_matrix = hcat(points...)\n",
    "size(points_matrix)"
   ]
  },
  {
   "cell_type": "code",
   "execution_count": 158,
   "metadata": {},
   "outputs": [
    {
     "data": {
      "text/plain": [
       "update_means_and_weights_1 (generic function with 1 method)"
      ]
     },
     "execution_count": 158,
     "metadata": {},
     "output_type": "execute_result"
    }
   ],
   "source": [
    "function update_means_and_weights_1( points, k)\n",
    "    \n",
    "    n_points = length(points)\n",
    "    n_centers = 100\n",
    "    centers = [points[i] for i in 1:n_centers]\n",
    "    μ = [zeros(3) for i in 1:n_centers]\n",
    "    weights = zeros(n_centers)\n",
    "    Σ = [diagm(ones(3)) for i in 1:n_centers]\n",
    "    dists = zeros(n_points)\n",
    "    idxs = zeros(Int, n_points)\n",
    "\n",
    "    for i = 1:n_centers\n",
    "\n",
    "        invΣ = inv(Σ[i])\n",
    "        for (j, x) in enumerate(points)\n",
    "            dists[j] = mahalanobis(x, μ[i], invΣ)\n",
    "        end\n",
    "   \n",
    "        idxs .= sortperm(dists)\n",
    "        μ[i] .= mean(view(points, idxs[1:k]))\n",
    "        weights[i] = mean([mahalanobis(points[j], μ[i], inv(Σ[i])) for j in idxs[1:k]]) + log(det(Σ[i]))\n",
    "\n",
    "    end\n",
    "    \n",
    "    return μ, weights\n",
    "    \n",
    "end\n"
   ]
  },
  {
   "cell_type": "code",
   "execution_count": 159,
   "metadata": {},
   "outputs": [
    {
     "name": "stdout",
     "output_type": "stream",
     "text": [
      "  0.511285 seconds (2.68 M allocations: 271.496 MiB, 3.43% gc time, 46.27% compilation time)\n"
     ]
    }
   ],
   "source": [
    "@time update_means_and_weights_1( points, 20);"
   ]
  },
  {
   "cell_type": "code",
   "execution_count": 160,
   "metadata": {},
   "outputs": [
    {
     "data": {
      "text/plain": [
       "update_means_and_weights_2 (generic function with 1 method)"
      ]
     },
     "execution_count": 160,
     "metadata": {},
     "output_type": "execute_result"
    }
   ],
   "source": [
    "function update_means_and_weights_2( points_matrix, k)\n",
    "    \n",
    "    @show dimension, n_points = size(points_matrix)\n",
    "    n_centers = 100\n",
    "    centers = [points_matrix[:,i] for i in 1:n_centers]\n",
    "    μ = [zeros(3) for i in 1:n_centers]\n",
    "    weights = zeros(n_centers)\n",
    "    Σ = [diagm(ones(3)) for i in 1:n_centers]\n",
    "    \n",
    "    for i = 1:n_centers\n",
    "        \n",
    "        invΣ = inv(Σ[i])\n",
    "        metric = Mahalanobis(invΣ)\n",
    "        balltree = BallTree(points_matrix, metric)\n",
    "        idxs, dists = knn(balltree, centers[i], k)\n",
    "        μ[i] .= vec(mean(points_matrix[:, idxs[1]], dims=2))\n",
    "        weights[i] = mean([sqmahalanobis(points[j], μ[i], invΣ) for j in idxs[1]]) + log(det(Σ[i]))\n",
    "\n",
    "    end\n",
    "    \n",
    "    return μ, weights\n",
    "    \n",
    "end"
   ]
  },
  {
   "cell_type": "code",
   "execution_count": 161,
   "metadata": {
    "scrolled": true
   },
   "outputs": [
    {
     "name": "stdout",
     "output_type": "stream",
     "text": [
      "(dimension, n_points) = size(points_matrix) = (3, 11000)\n",
      "  0.735302 seconds (1.85 M allocations: 256.059 MiB, 2.78% gc time, 21.51% compilation time)\n"
     ]
    }
   ],
   "source": [
    "@time update_means_and_weights_2( points_matrix, 20);"
   ]
  },
  {
   "cell_type": "markdown",
   "metadata": {},
   "source": [
    "# Distances.jl\n",
    "\n",
    "Some examples of optimized function of the package\n",
    "\n",
    "Does not work for us because the metric changes for every center"
   ]
  },
  {
   "cell_type": "code",
   "execution_count": 162,
   "metadata": {},
   "outputs": [
    {
     "name": "stdout",
     "output_type": "stream",
     "text": [
      "  583.090 μs (19 allocations: 1.07 MiB)\n"
     ]
    }
   ],
   "source": [
    "Σ = Matrix(I, 3, 3)\n",
    "metric = SqMahalanobis(Σ)\n",
    "n_points = 10^4\n",
    "n_centers = 10\n",
    "X = randn(3, n_points)\n",
    "Y = rand(3, n_centers)\n",
    "\n",
    "@btime r = pairwise(metric, X, Y);"
   ]
  },
  {
   "cell_type": "code",
   "execution_count": 163,
   "metadata": {},
   "outputs": [
    {
     "name": "stdout",
     "output_type": "stream",
     "text": [
      "  15.883 ms (400060 allocations: 28.23 MiB)\n"
     ]
    }
   ],
   "source": [
    "dists = zeros(n_points,n_centers)\n",
    "function with_loop!( dists, X, Y)\n",
    "    n_centers = size(Y)[2]\n",
    "    for i in 1:n_centers\n",
    "        center = Y[:,i]\n",
    "        dists[:,i] = [sqmahalanobis(x, center, Σ) for x in eachcol(X)]\n",
    "    end\n",
    "    return dists\n",
    "end\n",
    "@btime with_loop!( dists, X, Y);"
   ]
  },
  {
   "cell_type": "code",
   "execution_count": 164,
   "metadata": {},
   "outputs": [
    {
     "name": "stdout",
     "output_type": "stream",
     "text": [
      "  543.430 μs (17 allocations: 313.83 KiB)\n"
     ]
    },
    {
     "data": {
      "text/plain": [
       "10000×10 Matrix{Float64}:\n",
       " 17.9395    17.2349    18.0525    …  16.3431    10.8027    11.4172\n",
       "  3.09788    2.89455    2.55896       2.55415    2.15282    2.0233\n",
       "  1.3579     0.731615   1.53942       1.13611    1.35744    1.31772\n",
       "  6.1911     4.51484    6.90762       5.33457    2.68303    3.17039\n",
       "  0.401943   0.240069   0.861076      0.573069   1.83388    1.66919\n",
       "  3.79854    2.62916    5.26274   …   3.79537    3.48451    3.76875\n",
       "  1.61506    2.07164    2.20385       1.81358    2.66264    2.498\n",
       "  0.223735   0.804479   0.11112       0.237399   1.19482    0.892705\n",
       "  1.94499    1.9664     2.70217       1.91895    1.81659    1.83466\n",
       "  1.566      2.67946    0.874114      1.4829     2.52658    2.06435\n",
       "  3.32212    2.13003    4.44869   …   2.9842     1.71702    2.05902\n",
       "  2.84012    3.76298    2.99067       3.60504    7.22948    6.62796\n",
       "  7.31387    6.49664    7.4125        6.21924    2.91625    3.28581\n",
       "  ⋮                               ⋱                        \n",
       " 20.2946    17.5762    23.076        19.6378    15.5708    16.6616\n",
       "  6.65781    4.92257    7.43799       5.77164    2.93796    3.46264\n",
       "  1.48645    1.44501    1.46178   …   1.02438    0.169323   0.155646\n",
       "  1.33432    2.41238    0.758457      1.56033    3.79024    3.21515\n",
       "  5.27114    3.70431    6.57534       4.76759    2.75503    3.25112\n",
       "  6.30301    7.86699    4.73462       5.89944    6.52753    5.92406\n",
       "  4.01644    3.32811    5.12139       3.69566    2.24724    2.55148\n",
       "  2.95079    1.89399    4.26419   …   3.02391    3.18592    3.38001\n",
       "  4.52385    3.48101    4.55068       3.7325     1.95859    2.1671\n",
       "  5.68413    4.40619    6.96122       5.15009    2.88088    3.37038\n",
       "  2.51828    1.5708     3.68579       2.70738    3.50768    3.59388\n",
       "  2.1711     1.5309     2.12861       1.80159    1.70711    1.66926"
      ]
     },
     "execution_count": 164,
     "metadata": {},
     "output_type": "execute_result"
    }
   ],
   "source": [
    "@btime pairwise!(dists, metric, X, Y)"
   ]
  },
  {
   "cell_type": "code",
   "execution_count": null,
   "metadata": {},
   "outputs": [],
   "source": []
  }
 ],
 "metadata": {
  "kernelspec": {
   "display_name": "Julia 1.6.1",
   "language": "julia",
   "name": "julia-1.6"
  },
  "language_info": {
   "file_extension": ".jl",
   "mimetype": "application/julia",
   "name": "julia",
   "version": "1.6.2"
  }
 },
 "nbformat": 4,
 "nbformat_minor": 5
}
