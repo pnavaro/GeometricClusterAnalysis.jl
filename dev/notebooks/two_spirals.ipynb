{
 "cells": [
  {
   "cell_type": "markdown",
   "source": [
    "# Hierarchical clustering based on a union of ellipsoids"
   ],
   "metadata": {}
  },
  {
   "cell_type": "markdown",
   "source": [
    "## Example of two spirals"
   ],
   "metadata": {}
  },
  {
   "outputs": [],
   "cell_type": "code",
   "source": [
    "using GeometricClusterAnalysis\n",
    "using Plots\n",
    "using ProgressMeter\n",
    "using Random\n",
    "using Statistics"
   ],
   "metadata": {},
   "execution_count": null
  },
  {
   "cell_type": "markdown",
   "source": [
    "## Data generation"
   ],
   "metadata": {}
  },
  {
   "cell_type": "markdown",
   "source": [
    "### Parameters"
   ],
   "metadata": {}
  },
  {
   "outputs": [],
   "cell_type": "code",
   "source": [
    "nsignal = 2000 # number of signal points\n",
    "nnoise = 400   # number of outliers\n",
    "dim = 2       # dimension of the data\n",
    "σ = 0.5  # standard deviation for the additive noise"
   ],
   "metadata": {},
   "execution_count": null
  },
  {
   "cell_type": "markdown",
   "source": [
    "### Data generation"
   ],
   "metadata": {}
  },
  {
   "outputs": [],
   "cell_type": "code",
   "source": [
    "rng = MersenneTwister(123)\n",
    "data = noisy_nested_spirals(rng, nsignal, nnoise, σ, dim)\n",
    "npoints = size(data.points, 2)\n",
    "print(\"The dataset contains \", npoints, \" points, of dimension \", dim, \".\")"
   ],
   "metadata": {},
   "execution_count": null
  },
  {
   "cell_type": "markdown",
   "source": [
    "### Data display"
   ],
   "metadata": {}
  },
  {
   "outputs": [],
   "cell_type": "code",
   "source": [
    "plot(data)"
   ],
   "metadata": {},
   "execution_count": null
  },
  {
   "cell_type": "markdown",
   "source": [
    "## Computation of the union of ellipsoids with the kPLM function"
   ],
   "metadata": {}
  },
  {
   "cell_type": "markdown",
   "source": [
    "### Parameters"
   ],
   "metadata": {}
  },
  {
   "outputs": [],
   "cell_type": "code",
   "source": [
    "k = 20        # number of nearest neighbors\n",
    "c = 30        # number of ellipsoids\n",
    "iter_max = 20 # maximum number of iterations of the algorithm kPLM\n",
    "nstart = 10;   # number of initializations of the algorithm kPLM"
   ],
   "metadata": {},
   "execution_count": null
  },
  {
   "cell_type": "markdown",
   "source": [
    "### Method"
   ],
   "metadata": {}
  },
  {
   "cell_type": "markdown",
   "source": [
    "We decide to make no constraints on the ellipsoids, that is, no constraints on the eigenvalues of the matrices directing the ellipsoids."
   ],
   "metadata": {}
  },
  {
   "outputs": [],
   "cell_type": "code",
   "source": [
    "function f_Σ!(Σ) end"
   ],
   "metadata": {},
   "execution_count": null
  },
  {
   "cell_type": "markdown",
   "source": [
    "The parameter \"indexed_by_r2 = TRUE\" is the default parameter in the function kplm. We should not modify it since some birth times are negative.\n",
    "\n",
    "It is due to the logarithm of the determinant of some matrices that are negative. This problem can be solved by adding constraints to the matrices, with the argument \"f_Σ!\". In particular, forcing eigenvalues to be non smaller than 1 works."
   ],
   "metadata": {}
  },
  {
   "cell_type": "markdown",
   "source": [
    "### Application of the method"
   ],
   "metadata": {}
  },
  {
   "outputs": [],
   "cell_type": "code",
   "source": [
    "df = kplm(rng, data.points, k, c, nsignal, iter_max, nstart, f_Σ!)"
   ],
   "metadata": {},
   "execution_count": null
  },
  {
   "cell_type": "markdown",
   "source": [
    "## Clustering based on the persistence of the union of ellipsoids filtration"
   ],
   "metadata": {}
  },
  {
   "cell_type": "markdown",
   "source": [
    "### Matrix of distances"
   ],
   "metadata": {}
  },
  {
   "cell_type": "markdown",
   "source": [
    "This is a matrix that contains the birth times of the ellipsoids in the diagonal, and the intersecting times of pairs of ellipsoids in the lower left triangular part of the matrix."
   ],
   "metadata": {}
  },
  {
   "outputs": [],
   "cell_type": "code",
   "source": [
    "mh = build_distance_matrix(df)"
   ],
   "metadata": {},
   "execution_count": null
  },
  {
   "cell_type": "markdown",
   "source": [
    "### Selection of parameter \"threshold\""
   ],
   "metadata": {}
  },
  {
   "cell_type": "markdown",
   "source": [
    "We draw a persistence diagram based on the filtration of the union of ellipsoids.\n",
    "\n",
    "Each point corresponds to the connected component of an ellipsoid. The birth time corresponds to the time at which the ellipsoid, and thus the component, appears. The death time corresponds to the time at which the component merges with a component that was born before.\n",
    "\n",
    "The top left point corresponds to the ellipsoid that appeared first and therefore never merges with a component born before. Its death time is $\\infty$.\n",
    "\n",
    "The parameter \"threshold\" aims at removing ellipsoids born after time \"threshold\". Such ellipsoids are considered as irrelevant. This may be due to a bad initialisation of the algorithm that creates ellipsoids in bad directions with respect to the data."
   ],
   "metadata": {}
  },
  {
   "cell_type": "markdown",
   "source": [
    "+"
   ],
   "metadata": {}
  },
  {
   "outputs": [],
   "cell_type": "code",
   "source": [
    "hc = hierarchical_clustering_lem(\n",
    "    mh,\n",
    "    infinity = Inf,\n",
    "    threshold = Inf,\n",
    "    store_colors = false,\n",
    "    store_timesteps = false,\n",
    ")\n",
    "\n",
    "lims = (min(minimum(hc.birth), minimum(hc.death)),\n",
    "        max(maximum(hc.birth), maximum(hc.death[hc.death.!=Inf])) + 1)\n",
    "plot(hc, xlims = lims, ylims = lims)"
   ],
   "metadata": {},
   "execution_count": null
  },
  {
   "cell_type": "markdown",
   "source": [
    "-"
   ],
   "metadata": {}
  },
  {
   "cell_type": "markdown",
   "source": [
    "Note that the \"+1\" in the second argument of lims and lims2 hereafter is to separate\n",
    "the components whose death time is $\\infty$ to other components."
   ],
   "metadata": {}
  },
  {
   "cell_type": "markdown",
   "source": [
    "We consider that ellipsoids born after time \"threshold = 4\" were not relevant."
   ],
   "metadata": {}
  },
  {
   "cell_type": "markdown",
   "source": [
    "### Selection of parameter \"infinity\""
   ],
   "metadata": {}
  },
  {
   "cell_type": "markdown",
   "source": [
    "We then have to select parameter \"infinity\". Connected components which lifetime is larger than \"infinity\" are components that we want not to die."
   ],
   "metadata": {}
  },
  {
   "cell_type": "markdown",
   "source": [
    "+"
   ],
   "metadata": {}
  },
  {
   "outputs": [],
   "cell_type": "code",
   "source": [
    "hc2 = hierarchical_clustering_lem(\n",
    "    mh,\n",
    "    infinity = Inf,\n",
    "    threshold = 4,\n",
    "    store_colors = false,\n",
    "    store_timesteps = false,\n",
    ")\n",
    "\n",
    "lims2 = (min(minimum(hc2.birth), minimum(hc2.death)),\n",
    "         max(maximum(hc2.birth), maximum(hc2.death[hc2.death.!=Inf])) + 1)\n",
    "\n",
    "plot(hc2, xlims = lims2, ylims = lims2)"
   ],
   "metadata": {},
   "execution_count": null
  },
  {
   "cell_type": "markdown",
   "source": [
    "-"
   ],
   "metadata": {}
  },
  {
   "cell_type": "markdown",
   "source": [
    "We select \"infinity = 15\". Since there are clearly two connected components that have a lifetime much larger than others. This lifetime is larger than 15, whereas the lifetime of others is smaller than 15."
   ],
   "metadata": {}
  },
  {
   "cell_type": "markdown",
   "source": [
    "### Clustering"
   ],
   "metadata": {}
  },
  {
   "cell_type": "markdown",
   "source": [
    "+"
   ],
   "metadata": {}
  },
  {
   "outputs": [],
   "cell_type": "code",
   "source": [
    "hc3 = hierarchical_clustering_lem(\n",
    "    mh,\n",
    "    infinity = 10,\n",
    "    threshold = 4,\n",
    "    store_colors = true,\n",
    "    store_timesteps = true,\n",
    ")"
   ],
   "metadata": {},
   "execution_count": null
  },
  {
   "cell_type": "markdown",
   "source": [
    "Using the sames xlims and ylims than the previous persistence diagram."
   ],
   "metadata": {}
  },
  {
   "outputs": [],
   "cell_type": "code",
   "source": [
    "plot(hc3, xlims = lims2, ylims = lims2)"
   ],
   "metadata": {},
   "execution_count": null
  },
  {
   "cell_type": "markdown",
   "source": [
    "-"
   ],
   "metadata": {}
  },
  {
   "cell_type": "markdown",
   "source": [
    "### Getting the number of components, colors of ellipsoids and times of evolution of the clustering"
   ],
   "metadata": {}
  },
  {
   "cell_type": "markdown",
   "source": [
    "Number of ellipsoids"
   ],
   "metadata": {}
  },
  {
   "outputs": [],
   "cell_type": "code",
   "source": [
    "nellipsoids = length(hc3.startup_indices)\n",
    "# Ellispoids colors\n",
    "ellipsoids_colors = hc3.saved_colors\n",
    "# Time at which a component borns or dies\n",
    "timesteps = hc3.timesteps;"
   ],
   "metadata": {},
   "execution_count": null
  },
  {
   "cell_type": "markdown",
   "source": [
    "Note : `ellipsoids_colors[i]` contains the labels of the ellipsoids just before the time `timesteps[i]`\n",
    "\n",
    "Example :\n",
    "- `ellipsoids_colors[1]` contains only 0 labels\n",
    "\n",
    "Moreover, if there are 2 connexed components in the remaining clustering :\n",
    "- `ellipsoids_colors[end - 1] = ellipsoids_colors[end]` contains 2 different labels\n",
    "- `ellipsoids_colors[end - 2]` contains 3 different labels"
   ],
   "metadata": {}
  },
  {
   "cell_type": "markdown",
   "source": [
    "Using a parameter threshold not equal to $\\infty$ erases some ellipsoids.\n",
    "Therefore we need to compute new labels of the data points, with respect to the new ellipsoids."
   ],
   "metadata": {}
  },
  {
   "outputs": [],
   "cell_type": "code",
   "source": [
    "remain_indices = hc3.startup_indices\n",
    "color_points, dists = subcolorize(data.points, npoints, df, remain_indices)"
   ],
   "metadata": {},
   "execution_count": null
  },
  {
   "cell_type": "markdown",
   "source": [
    "## Removing outliers"
   ],
   "metadata": {}
  },
  {
   "cell_type": "markdown",
   "source": [
    "### Selection of the number of outliers"
   ],
   "metadata": {}
  },
  {
   "outputs": [],
   "cell_type": "code",
   "source": [
    "nsignal_vect = 1:npoints\n",
    "idxs = zeros(Int, npoints)\n",
    "sortperm!(idxs, dists, rev = false)\n",
    "costs = cumsum(dists[idxs])\n",
    "plot(\n",
    "    nsignal_vect,\n",
    "    costs,\n",
    "    title = \"Selection of the number of signal points\",\n",
    "    legend = false,\n",
    ")\n",
    "xlabel!(\"Number of signal points\")\n",
    "ylabel!(\"Cost\")"
   ],
   "metadata": {},
   "execution_count": null
  },
  {
   "cell_type": "markdown",
   "source": [
    "We choose \"nsignal\", the number of points at which there is a slope change in the cost curve.\n",
    "\n",
    "We set the label of the (npoints - nsignal) points with largest cost to 0. These points are considered as outliers."
   ],
   "metadata": {}
  },
  {
   "cell_type": "markdown",
   "source": [
    "+"
   ],
   "metadata": {}
  },
  {
   "outputs": [],
   "cell_type": "code",
   "source": [
    "nsignal = 2100\n",
    "\n",
    "if nsignal < npoints\n",
    "    for i in idxs[(nsignal+1):npoints]\n",
    "        color_points[i] = 0\n",
    "    end\n",
    "end"
   ],
   "metadata": {},
   "execution_count": null
  },
  {
   "cell_type": "markdown",
   "source": [
    "-"
   ],
   "metadata": {}
  },
  {
   "cell_type": "markdown",
   "source": [
    "### Preparation of the animation"
   ],
   "metadata": {}
  },
  {
   "cell_type": "markdown",
   "source": [
    "Since \"indexed_by_r2 = TRUE\", we use sq_time and not its squareroot."
   ],
   "metadata": {}
  },
  {
   "cell_type": "markdown",
   "source": [
    "+"
   ],
   "metadata": {}
  },
  {
   "outputs": [],
   "cell_type": "code",
   "source": [
    "sq_time = (0:200) ./ 200 .* (timesteps[end-1] - timesteps[1]) .+ timesteps[1] # Depends on \"timesteps\" vector.\n",
    "Col2 = Vector{Int}[]\n",
    "Colors2 = Vector{Int}[]\n",
    "\n",
    "let idx = 0\n",
    "\n",
    "    new_colors2 = zeros(Int, npoints)\n",
    "    new_col2 = zeros(Int, nellipsoids)\n",
    "    next_sqtime = timesteps[idx+1]\n",
    "    updated = false\n",
    "\n",
    "    @showprogress 1 for i = eachindex(sq_time)\n",
    "        while sq_time[i] >= next_sqtime\n",
    "            idx += 1\n",
    "            next_sqtime = timesteps[idx+1]\n",
    "            updated = true\n",
    "        end\n",
    "        if updated\n",
    "            new_col2 = ellipsoids_colors[idx+1]\n",
    "            new_colors2 = return_color(color_points, new_col2, remain_indices)\n",
    "            updated = false\n",
    "        end\n",
    "        push!(Col2, copy(new_col2))\n",
    "        push!(Colors2, copy(new_colors2))\n",
    "    end\n",
    "\n",
    "    # If the cost of the point is smaller to the time : label 0 (not in the ellipsoid)\n",
    "    for i = 1:length(Col2), j = 1:data.np\n",
    "        Colors2[i][j] = Colors2[i][j] * (dists[j] <= sq_time[i])\n",
    "    end\n",
    "\n",
    "end\n",
    "\n",
    "μ = [df.μ[i] for i in remain_indices if i > 0];\n",
    "ω = [df.ω[i] for i in remain_indices if i > 0];\n",
    "Σ = [df.Σ[i] for i in remain_indices if i > 0];\n",
    "\n",
    "ncolors2 = length(Colors2);\n",
    "\n",
    "anim = @animate for i in [1:ncolors2; Iterators.repeated(ncolors2, 30)...]\n",
    "    ellipsoids(data.points, Col2[i], Colors2[i], μ, ω, Σ, sq_time[i]; markersize = 3)\n",
    "    xlims!(-60, 60)\n",
    "    ylims!(-60, 60)\n",
    "end;"
   ],
   "metadata": {},
   "execution_count": null
  },
  {
   "cell_type": "markdown",
   "source": [
    "-"
   ],
   "metadata": {}
  },
  {
   "cell_type": "markdown",
   "source": [
    "### Animation - Clustering result"
   ],
   "metadata": {}
  },
  {
   "outputs": [],
   "cell_type": "code",
   "source": [
    "gif(anim, \"anim_kplm.gif\", fps = 5)"
   ],
   "metadata": {},
   "execution_count": null
  },
  {
   "cell_type": "markdown",
   "source": [
    "---\n",
    "\n",
    "*This notebook was generated using [Literate.jl](https://github.com/fredrikekre/Literate.jl).*"
   ],
   "metadata": {}
  }
 ],
 "nbformat_minor": 3,
 "metadata": {
  "language_info": {
   "file_extension": ".jl",
   "mimetype": "application/julia",
   "name": "julia",
   "version": "1.8.5"
  },
  "kernelspec": {
   "name": "julia-1.8",
   "display_name": "Julia 1.8.5",
   "language": "julia"
  }
 },
 "nbformat": 4
}
