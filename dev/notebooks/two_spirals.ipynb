{
 "cells": [
  {
   "cell_type": "markdown",
   "source": [
    "# Hierarchical clustering based on a union of ellipsoids"
   ],
   "metadata": {}
  },
  {
   "cell_type": "markdown",
   "source": [
    "## Example of two spirals"
   ],
   "metadata": {}
  },
  {
   "outputs": [],
   "cell_type": "code",
   "source": [
    "using GeometricClusterAnalysis\n",
    "using Plots\n",
    "using Random\n",
    "using Statistics"
   ],
   "metadata": {},
   "execution_count": null
  },
  {
   "cell_type": "markdown",
   "source": [
    "## Data generation"
   ],
   "metadata": {}
  },
  {
   "cell_type": "markdown",
   "source": [
    "### Parameters"
   ],
   "metadata": {}
  },
  {
   "outputs": [],
   "cell_type": "code",
   "source": [
    "nsignal = 2000 # number of signal points\n",
    "nnoise = 400   # number of outliers\n",
    "dim = 2       # dimension of the data\n",
    "σ = 0.5  # standard deviation for the additive noise"
   ],
   "metadata": {},
   "execution_count": null
  },
  {
   "cell_type": "markdown",
   "source": [
    "### Data generation"
   ],
   "metadata": {}
  },
  {
   "outputs": [],
   "cell_type": "code",
   "source": [
    "rng = MersenneTwister(123)\n",
    "data = noisy_nested_spirals(rng, nsignal, nnoise, σ, dim)\n",
    "npoints = size(data.points, 2)\n",
    "println(\"The dataset contains $npoints points, of dimension $dim.\")"
   ],
   "metadata": {},
   "execution_count": null
  },
  {
   "cell_type": "markdown",
   "source": [
    "### Data display"
   ],
   "metadata": {}
  },
  {
   "outputs": [],
   "cell_type": "code",
   "source": [
    "plot(data)"
   ],
   "metadata": {},
   "execution_count": null
  },
  {
   "cell_type": "markdown",
   "source": [
    "## Computation of the union of ellipsoids with the kPLM function"
   ],
   "metadata": {}
  },
  {
   "cell_type": "markdown",
   "source": [
    "### Parameters"
   ],
   "metadata": {}
  },
  {
   "outputs": [],
   "cell_type": "code",
   "source": [
    "k = 20        # number of nearest neighbors\n",
    "c = 30        # number of ellipsoids\n",
    "iter_max = 20 # maximum number of iterations of the algorithm kPLM\n",
    "nstart = 10;  # number of initializations of the algorithm kPLM"
   ],
   "metadata": {},
   "execution_count": null
  },
  {
   "cell_type": "markdown",
   "source": [
    "### Method"
   ],
   "metadata": {}
  },
  {
   "cell_type": "markdown",
   "source": [
    "We decide to make no constraints on the ellipsoids, that is, no constraints on the eigenvalues of the matrices directing the ellipsoids."
   ],
   "metadata": {}
  },
  {
   "outputs": [],
   "cell_type": "code",
   "source": [
    "function f_Σ!(Σ) end"
   ],
   "metadata": {},
   "execution_count": null
  },
  {
   "cell_type": "markdown",
   "source": [
    "The parameter `indexed_by_r2 = true` is the default parameter in the function kplm. We should not modify it since some birth times are negative.\n",
    "\n",
    "It is due to the logarithm of the determinant of some matrices that are negative. This problem can be solved by adding constraints to the matrices, with the argument \"f_Σ!\". In particular, forcing eigenvalues to be non smaller than 1 works."
   ],
   "metadata": {}
  },
  {
   "cell_type": "markdown",
   "source": [
    "### Application of the method"
   ],
   "metadata": {}
  },
  {
   "outputs": [],
   "cell_type": "code",
   "source": [
    "distance_function = kplm(rng, data.points, k, c, nsignal, iter_max, nstart, f_Σ!)"
   ],
   "metadata": {},
   "execution_count": null
  },
  {
   "cell_type": "markdown",
   "source": [
    "## Clustering based on the persistence of the union of ellipsoids filtration"
   ],
   "metadata": {}
  },
  {
   "cell_type": "markdown",
   "source": [
    "### Matrix of distances"
   ],
   "metadata": {}
  },
  {
   "cell_type": "markdown",
   "source": [
    "This is a matrix that contains the birth times of the ellipsoids in the diagonal, and the intersecting times of pairs of ellipsoids in the lower left triangular part of the matrix."
   ],
   "metadata": {}
  },
  {
   "outputs": [],
   "cell_type": "code",
   "source": [
    "distance_matrix = build_distance_matrix(distance_function)"
   ],
   "metadata": {},
   "execution_count": null
  },
  {
   "cell_type": "markdown",
   "source": [
    "### Selection of parameter \"threshold\""
   ],
   "metadata": {}
  },
  {
   "cell_type": "markdown",
   "source": [
    "We draw a persistence diagram based on the filtration of the union of ellipsoids.\n",
    "\n",
    "Each point corresponds to the connected component of an ellipsoid. The birth time corresponds to the time at which the ellipsoid, and thus the component, appears. The death time corresponds to the time at which the component merges with a component that was born before.\n",
    "\n",
    "The top left point corresponds to the ellipsoid that appeared first and therefore never merges with a component born before. Its death time is $\\infty$.\n",
    "\n",
    "The parameter \"threshold\" aims at removing ellipsoids born after time \"threshold\". Such ellipsoids are considered as irrelevant. This may be due to a bad initialisation of the algorithm that creates ellipsoids in bad directions with respect to the data."
   ],
   "metadata": {}
  },
  {
   "outputs": [],
   "cell_type": "code",
   "source": [
    "hc1 = hierarchical_clustering_lem(\n",
    "    distance_matrix,\n",
    "    infinity = Inf,\n",
    "    threshold = Inf,\n",
    "    store_colors = false,\n",
    "    store_timesteps = false,\n",
    ")\n",
    "\n",
    "lims = (min(minimum(hc1.birth), minimum(hc1.death)),\n",
    "        max(maximum(hc1.birth), maximum(hc1.death[hc1.death.!=Inf])) + 1)\n",
    "plot(hc1, xlims = lims, ylims = lims)"
   ],
   "metadata": {},
   "execution_count": null
  },
  {
   "cell_type": "markdown",
   "source": [
    "Note that the \"+1\" in the second argument of lims and lims2 hereafter is to separate\n",
    "the components whose death time is $\\infty$ to other components."
   ],
   "metadata": {}
  },
  {
   "cell_type": "markdown",
   "source": [
    "We consider that ellipsoids born after time \"threshold = 4\" were not relevant."
   ],
   "metadata": {}
  },
  {
   "cell_type": "markdown",
   "source": [
    "### Selection of parameter \"infinity\""
   ],
   "metadata": {}
  },
  {
   "cell_type": "markdown",
   "source": [
    "We then have to select parameter \"infinity\". Connected components which lifetime is larger than \"infinity\" are components that we want not to die."
   ],
   "metadata": {}
  },
  {
   "outputs": [],
   "cell_type": "code",
   "source": [
    "hc2 = hierarchical_clustering_lem(\n",
    "    distance_matrix,\n",
    "    infinity = Inf,\n",
    "    threshold = 4,\n",
    "    store_colors = false,\n",
    "    store_timesteps = false,\n",
    ")\n",
    "\n",
    "lims2 = (min(minimum(hc2.birth), minimum(hc2.death)),\n",
    "         max(maximum(hc2.birth), maximum(hc2.death[hc2.death.!=Inf])) + 1)\n",
    "\n",
    "plot(hc2, xlims = lims2, ylims = lims2)"
   ],
   "metadata": {},
   "execution_count": null
  },
  {
   "cell_type": "markdown",
   "source": [
    "We select \"infinity = 15\". Since there are clearly two connected components that have a lifetime much larger than others. This lifetime is larger than 15, whereas the lifetime of others is smaller than 15."
   ],
   "metadata": {}
  },
  {
   "cell_type": "markdown",
   "source": [
    "### Clustering"
   ],
   "metadata": {}
  },
  {
   "outputs": [],
   "cell_type": "code",
   "source": [
    "hc3 = hierarchical_clustering_lem(\n",
    "    distance_matrix,\n",
    "    infinity = 10,\n",
    "    threshold = 4,\n",
    "    store_colors = true,\n",
    "    store_timesteps = true,\n",
    ")"
   ],
   "metadata": {},
   "execution_count": null
  },
  {
   "cell_type": "markdown",
   "source": [
    "Using the sames xlims and ylims than the previous persistence diagram."
   ],
   "metadata": {}
  },
  {
   "outputs": [],
   "cell_type": "code",
   "source": [
    "plot(hc3, xlims = lims2, ylims = lims2)"
   ],
   "metadata": {},
   "execution_count": null
  },
  {
   "cell_type": "markdown",
   "source": [
    "### Getting the number of components, colors of ellipsoids and times of evolution of the clustering"
   ],
   "metadata": {}
  },
  {
   "cell_type": "markdown",
   "source": [
    "Number of ellipsoids"
   ],
   "metadata": {}
  },
  {
   "outputs": [],
   "cell_type": "code",
   "source": [
    "nellipsoids = length(hc3.startup_indices)\n",
    "# Ellispoids colors\n",
    "ellipsoids_colors = hc3.saved_colors\n",
    "# Time at which a component borns or dies\n",
    "timesteps = hc3.timesteps;"
   ],
   "metadata": {},
   "execution_count": null
  },
  {
   "cell_type": "markdown",
   "source": [
    "Note : `ellipsoids_colors[i]` contains the labels of the ellipsoids just before the time `timesteps[i]`\n",
    "\n",
    "Example :\n",
    "- `ellipsoids_colors[1]` contains only 0 labels\n",
    "\n",
    "Moreover, if there are 2 connexed components in the remaining clustering :\n",
    "- `ellipsoids_colors[end - 1] = ellipsoids_colors[end]` contains 2 different labels\n",
    "- `ellipsoids_colors[end - 2]` contains 3 different labels"
   ],
   "metadata": {}
  },
  {
   "cell_type": "markdown",
   "source": [
    "Using a parameter threshold not equal to $\\infty$ erases some ellipsoids.\n",
    "Therefore we need to compute new labels of the data points, with respect to the new ellipsoids."
   ],
   "metadata": {}
  },
  {
   "outputs": [],
   "cell_type": "code",
   "source": [
    "remain_indices = hc3.startup_indices\n",
    "points_colors, distances = subcolorize(data.points, npoints, distance_function, remain_indices)"
   ],
   "metadata": {},
   "execution_count": null
  },
  {
   "cell_type": "markdown",
   "source": [
    "## Removing outliers"
   ],
   "metadata": {}
  },
  {
   "cell_type": "markdown",
   "source": [
    "### Selection of the number of outliers"
   ],
   "metadata": {}
  },
  {
   "outputs": [],
   "cell_type": "code",
   "source": [
    "idxs = zeros(Int, npoints)\n",
    "sortperm!(idxs, distances, rev = false)\n",
    "costs = cumsum(distances[idxs])\n",
    "plot( costs, legend = false, xlabel = \"number of points\", ylabel = \"cost\")"
   ],
   "metadata": {},
   "execution_count": null
  },
  {
   "cell_type": "markdown",
   "source": [
    "We choose \"nsignal\", the number of points at which there is a slope change in the cost curve.\n",
    "\n",
    "We set the label of the (npoints - nsignal) points with largest cost to 0. These points are considered as outliers."
   ],
   "metadata": {}
  },
  {
   "outputs": [],
   "cell_type": "code",
   "source": [
    "nsignal = 2100\n",
    "\n",
    "points_colors[idxs[(nsignal+1):end]] .= 0"
   ],
   "metadata": {},
   "execution_count": null
  },
  {
   "cell_type": "markdown",
   "source": [
    "### Animation - Clustering result"
   ],
   "metadata": {}
  },
  {
   "outputs": [],
   "cell_type": "code",
   "source": [
    "ellipsoids_frames, points_frames, μ, ω, Σ, sq_time = create_ellipsoids_animation(\n",
    "    distance_function, timesteps, ellipsoids_colors, points_colors, distances, remain_indices )\n",
    "\n",
    "nframes = length(points_frames)\n",
    "\n",
    "anim = @animate for i in [1:nframes; Iterators.repeated(nframes, 30)...]\n",
    "    ellipsoids(data.points, ellipsoids_frames[i], points_frames[i], μ, ω, Σ, sq_time[i]; markersize = 3)\n",
    "    xlims!(-60, 60)\n",
    "    ylims!(-60, 60)\n",
    "end\n",
    "\n",
    "gif(anim, \"anim_kplm.gif\", fps = 5)"
   ],
   "metadata": {},
   "execution_count": null
  },
  {
   "cell_type": "markdown",
   "source": [
    "---\n",
    "\n",
    "*This notebook was generated using [Literate.jl](https://github.com/fredrikekre/Literate.jl).*"
   ],
   "metadata": {}
  }
 ],
 "nbformat_minor": 3,
 "metadata": {
  "language_info": {
   "file_extension": ".jl",
   "mimetype": "application/julia",
   "name": "julia",
   "version": "1.9.1"
  },
  "kernelspec": {
   "name": "julia-1.9",
   "display_name": "Julia 1.9.1",
   "language": "julia"
  }
 },
 "nbformat": 4
}
